{
  "nbformat": 4,
  "nbformat_minor": 0,
  "metadata": {
    "colab": {
      "provenance": []
    },
    "kernelspec": {
      "name": "python3",
      "display_name": "Python 3"
    },
    "language_info": {
      "name": "python"
    }
  },
  "cells": [
    {
      "cell_type": "code",
      "metadata": {
        "colab": {
          "base_uri": "https://localhost:8080/"
        },
        "id": "SR4vgq_gHWL0",
        "outputId": "ae50b503-68da-4d0f-b14f-1db271bf1946"
      },
      "source": [
        "!pip install git+https://github.com/jakeret/unet.git"
      ],
      "execution_count": null,
      "outputs": [
        {
          "output_type": "stream",
          "text": [
            "Collecting git+https://github.com/jakeret/unet.git\n",
            "  Cloning https://github.com/jakeret/unet.git to /tmp/pip-req-build-pcv4km2v\n",
            "  Running command git clone -q https://github.com/jakeret/unet.git /tmp/pip-req-build-pcv4km2v\n",
            "Building wheels for collected packages: unet\n",
            "  Building wheel for unet (setup.py) ... \u001b[?25l\u001b[?25hdone\n",
            "  Created wheel for unet: filename=unet-0.0.post0.dev81+gf557a51-py2.py3-none-any.whl size=25690 sha256=e8e2e0fe3f700ef28ec1f76bae7357d9a30980c6c5f74a8da9ab27e79aab4fb7\n",
            "  Stored in directory: /tmp/pip-ephem-wheel-cache-rclsg2ar/wheels/22/00/93/ce57529ed355f160088cbb6ce086e55168770913b40cf624ba\n",
            "Successfully built unet\n",
            "Installing collected packages: unet\n",
            "Successfully installed unet-0.0.post0.dev81+gf557a51\n"
          ],
          "name": "stdout"
        }
      ]
    },
    {
      "cell_type": "code",
      "metadata": {
        "id": "pTEdabSxHdD_"
      },
      "source": [
        "%load_ext tensorboard\n",
        "import unet\n",
        "from tensorflow.keras import losses, metrics"
      ],
      "execution_count": null,
      "outputs": []
    },
    {
      "cell_type": "code",
      "metadata": {
        "id": "DHPtK-yhHiA-"
      },
      "source": [
        "LEARNING_RATE = 1e-3\n",
        "unet_model = unet.build_model(channels=3,\n",
        "                              num_classes=10,\n",
        "                              layer_depth=5,\n",
        "                              filters_root=64,\n",
        "                              padding=\"same\"\n",
        "                              )\n",
        "\n",
        "unet.finalize_model(unet_model,\n",
        "                    loss=losses.SparseCategoricalCrossentropy(),\n",
        "                    metrics=[metrics.SparseCategoricalAccuracy()],\n",
        "                    auc=False,\n",
        "                    learning_rate=LEARNING_RATE)\n"
      ],
      "execution_count": null,
      "outputs": []
    }
  ]
}